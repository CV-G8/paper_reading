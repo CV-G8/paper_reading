{
 "cells": [
  {
   "cell_type": "markdown",
   "metadata": {},
   "source": [
    "# FaceNet: A Unified Embedding for Face Recognition and Clustering\n"
   ]
  },
  {
   "cell_type": "markdown",
   "metadata": {},
   "source": [
    "Schroff F, Kalenichenko D, Philbin J. [FaceNet: A unified embedding for face recognition and clustering](https://arxiv.org/pdf/1503.03832)[J]. 2015."
   ]
  },
  {
   "cell_type": "markdown",
   "metadata": {},
   "source": [
    "## 摘要"
   ]
  },
  {
   "cell_type": "markdown",
   "metadata": {},
   "source": [
    "FaceNet：直接学习面部图像到紧致欧氏空间（compact Euclidean space）的映射，其距离用于度量面部的相似度。"
   ]
  },
  {
   "cell_type": "markdown",
   "metadata": {},
   "source": [
    "\n",
    "## 1 引言"
   ]
  },
  {
   "cell_type": "markdown",
   "metadata": {},
   "source": [
    "FaceNet利用基于三元组（triplet-based）最大余量近邻（large margin nearest neighbor，LMNN）的损失函数训练网络，其输出表示为128维紧致向量。\n",
    "\n",
    "![](./img/facenet_fig_1.png)\n",
    "\n",
    "距离为$0$时，表示两张面部图像为同一个人；距离为$4$时，表示两张面部图像不是同一个人。门限$1.1$能够正确区分图中3组面部图像"
   ]
  },
  {
   "cell_type": "markdown",
   "metadata": {},
   "source": [
    "## 2 相关工作"
   ]
  },
  {
   "cell_type": "markdown",
   "metadata": {},
   "source": [
    "## 3 方法"
   ]
  },
  {
   "attachments": {},
   "cell_type": "markdown",
   "metadata": {},
   "source": [
    "一种从图像$x$到特征空间${\\cal{R}}^d$的嵌入f (x)，使相同身份的所有人脸之间的平方距离(独立于成像条件)都很小，而来自不同身份的一对人脸图像之间的平方距离很大。\n",
    "\n",
    "![](./img/facenet_fig_2.png)"
   ]
  },
  {
   "cell_type": "code",
   "execution_count": null,
   "metadata": {},
   "outputs": [],
   "source": []
  }
 ],
 "metadata": {
  "kernelspec": {
   "display_name": "Python 3",
   "language": "python",
   "name": "python3"
  },
  "language_info": {
   "codemirror_mode": {
    "name": "ipython",
    "version": 3
   },
   "file_extension": ".py",
   "mimetype": "text/x-python",
   "name": "python",
   "nbconvert_exporter": "python",
   "pygments_lexer": "ipython3",
   "version": "3.6.8"
  }
 },
 "nbformat": 4,
 "nbformat_minor": 2
}
